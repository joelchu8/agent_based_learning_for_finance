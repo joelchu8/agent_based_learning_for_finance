{
 "cells": [
  {
   "cell_type": "markdown",
   "metadata": {},
   "source": [
    "This is a tutorial for basic use of abides_markets simulation.\n",
    "It uses the simulator directly without the OpenAI Gym interface"
   ]
  },
  {
   "cell_type": "code",
   "execution_count": 14,
   "metadata": {},
   "outputs": [
    {
     "data": {
      "text/html": [
       "<style>.container { width:100% !important; }</style>"
      ],
      "text/plain": [
       "<IPython.core.display.HTML object>"
      ]
     },
     "metadata": {},
     "output_type": "display_data"
    }
   ],
   "source": [
    "from IPython.display import display, HTML\n",
    "display(HTML(\"<style>.container { width:100% !important; }</style>\"))"
   ]
  },
  {
   "cell_type": "code",
   "execution_count": 15,
   "metadata": {},
   "outputs": [
    {
     "name": "stdout",
     "output_type": "stream",
     "text": [
      "c:\\Users\\Joel\\Downloads\\abides-jpmc-public-main\\abides-jpmc-public-main\\notebooks\n"
     ]
    }
   ],
   "source": [
    "import numpy as np\n",
    "import pandas as pd\n",
    "from matplotlib import pyplot as plt\n",
    "import sys\n",
    "# sys.path.append('/mnt/ccnas2/bdp/kg1118/projects/jpm/my_abides/')\n",
    "from abides_core import abides\n",
    "from abides_core.utils import parse_logs_df, ns_date, str_to_ns, fmt_ts\n",
    "from abides_markets.orders import Side\n",
    "from abides_markets.configs.circuit_breaker import build_config\n",
    "from abides_markets.configs.agent_params import ExchangeConfig, NoiseAgentConfig, ValueAgentConfig, MarketMakerAgentConfig, MomentumAgentConfig, GBMOracleConfig, InstitutionalTraderAgentConfig\n",
    "import os\n",
    "print(os.getcwd())"
   ]
  },
  {
   "cell_type": "markdown",
   "metadata": {},
   "source": [
    "## Build runnable configuration"
   ]
  },
  {
   "cell_type": "markdown",
   "metadata": {},
   "source": [
    "Here we are generating/building a config from the config file rmsc04. \n",
    "The config object is a dictionnary containing key elements like, start time, end time, agents to be used, latency and computation delay models."
   ]
  },
  {
   "cell_type": "code",
   "execution_count": 16,
   "metadata": {
    "scrolled": false
   },
   "outputs": [
    {
     "name": "stdout",
     "output_type": "stream",
     "text": [
      "Noise Agents:  5\n",
      "Value Agents:  10\n",
      "Market Maker Agents:  15\n",
      "Long Momentum Agents:  5\n",
      "Short Momentum Agents:  5\n"
     ]
    }
   ],
   "source": [
    "oracle_config = GBMOracleConfig(mu=1e-9, sigma=0.0135)\n",
    "mm_config = MarketMakerAgentConfig(price_skew_param=4, wake_up_freq='1s', subscribe=False, subscribe_freq='1s', subscribe_num_levels=10)\n",
    "value_agent_config = ValueAgentConfig(kappa_limit=0.3, kappa_mkt=0.1, mean_wakeup_gap=1e8)\n",
    "momentum_agent_config = MomentumAgentConfig(beta_limit=50, beta_mkt=20, wake_up_freq='1s', subscribe=False)\n",
    "exchange_config = ExchangeConfig(log_orders=True)\n",
    "institutional_config = InstitutionalTraderAgentConfig(inventory=1e8, sell_frequency=\"00:00:02\", sell_volume_factor=100)\n",
    "\n",
    "config = build_config(seed=50, end_time=\"10:30:00\", num_noise_agents=5, num_value_agents=10, num_mm_agents=15, num_long_momentum_agents=5, num_short_momentum_agents=5, oracle_params=oracle_config, \n",
    "                      mm_agent_params=mm_config, value_agent_params=value_agent_config, momentum_agent_params=momentum_agent_config)\n",
    "config['stdout_log_level'] = 'INFO'"
   ]
  },
  {
   "cell_type": "code",
   "execution_count": 17,
   "metadata": {},
   "outputs": [
    {
     "data": {
      "text/plain": [
       "(dict_keys(['seed', 'start_time', 'stop_time', 'agents', 'agent_types', 'agent_latency_model', 'default_computation_delay', 'custom_properties', 'random_state_kernel', 'stdout_log_level', 'log_dir']),\n",
       " 'INFO')"
      ]
     },
     "execution_count": 17,
     "metadata": {},
     "output_type": "execute_result"
    }
   ],
   "source": [
    "config.keys(), config['stdout_log_level']"
   ]
  },
  {
   "cell_type": "code",
   "execution_count": 18,
   "metadata": {},
   "outputs": [
    {
     "data": {
      "text/plain": [
       "['CircuitBreakerExchangeAgent',\n",
       " 'InstitutionalTraderAgent',\n",
       " 'NoiseAgent',\n",
       " 'NoiseAgent',\n",
       " 'NoiseAgent',\n",
       " 'NoiseAgent',\n",
       " 'NoiseAgent',\n",
       " 'ValueAgent',\n",
       " 'ValueAgent',\n",
       " 'ValueAgent',\n",
       " 'ValueAgent',\n",
       " 'ValueAgent',\n",
       " 'ValueAgent',\n",
       " 'ValueAgent',\n",
       " 'ValueAgent',\n",
       " 'ValueAgent',\n",
       " 'ValueAgent',\n",
       " 'POVMarketMakerAgent',\n",
       " 'POVMarketMakerAgent',\n",
       " 'POVMarketMakerAgent',\n",
       " 'POVMarketMakerAgent',\n",
       " 'POVMarketMakerAgent',\n",
       " 'POVMarketMakerAgent',\n",
       " 'POVMarketMakerAgent',\n",
       " 'POVMarketMakerAgent',\n",
       " 'POVMarketMakerAgent',\n",
       " 'POVMarketMakerAgent',\n",
       " 'POVMarketMakerAgent',\n",
       " 'POVMarketMakerAgent',\n",
       " 'POVMarketMakerAgent',\n",
       " 'POVMarketMakerAgent',\n",
       " 'POVMarketMakerAgent',\n",
       " 'MomentumAgent',\n",
       " 'MomentumAgent',\n",
       " 'MomentumAgent',\n",
       " 'MomentumAgent',\n",
       " 'MomentumAgent',\n",
       " 'MomentumAgent',\n",
       " 'MomentumAgent',\n",
       " 'MomentumAgent',\n",
       " 'MomentumAgent',\n",
       " 'MomentumAgent']"
      ]
     },
     "execution_count": 18,
     "metadata": {},
     "output_type": "execute_result"
    }
   ],
   "source": [
    "config['agent_types']"
   ]
  },
  {
   "cell_type": "markdown",
   "metadata": {},
   "source": [
    "## Running simulation"
   ]
  },
  {
   "cell_type": "markdown",
   "metadata": {},
   "source": [
    "Once the config is ready it can be run using the abides runner function.\n",
    "It instanciates a simulation kernel, runs the configuration and returns an end_state that mostly contains pointers to the different agent objects.\n",
    "The agents are in their final state, their internal variables can be accessed to extract informations of interests like logs."
   ]
  },
  {
   "cell_type": "code",
   "execution_count": 19,
   "metadata": {
    "scrolled": true
   },
   "outputs": [
    {
     "name": "stderr",
     "output_type": "stream",
     "text": [
      "[29124] \u001b[1;30mINFO\u001b[0m \u001b[34mabides\u001b[0m Simulation Start Time: 2024-05-14 21:43:24.765410\n",
      "[29124] \u001b[1;30mINFO\u001b[0m \u001b[34mabides_core.kernel\u001b[0m --- Simulation time: 2021-02-05 00:00:00, messages processed: 0, wallclock elapsed: 0.00s ---\n"
     ]
    },
    {
     "name": "stdout",
     "output_type": "stream",
     "text": [
      "1506\n",
      "1506\n",
      "percentage change: 0.0\n",
      "current average: 10011.573705179282\n"
     ]
    },
    {
     "name": "stderr",
     "output_type": "stream",
     "text": [
      "[29124] \u001b[1;30mINFO\u001b[0m \u001b[34mabides_core.kernel\u001b[0m --- Simulation time: 2021-02-05 09:37:20, messages processed: 100,000, wallclock elapsed: 28.79s ---\n"
     ]
    },
    {
     "name": "stdout",
     "output_type": "stream",
     "text": [
      "1491\n",
      "2997\n",
      "percentage change: 0.00039338502883007337\n",
      "current average: 10007.635301968636\n"
     ]
    },
    {
     "name": "stderr",
     "output_type": "stream",
     "text": [
      "[29124] \u001b[1;30mINFO\u001b[0m \u001b[34mabides_core.kernel\u001b[0m --- Simulation time: 2021-02-05 09:38:41, messages processed: 200,000, wallclock elapsed: 56.96s ---\n"
     ]
    },
    {
     "name": "stdout",
     "output_type": "stream",
     "text": [
      "1628\n",
      "3000\n",
      "percentage change: 0.00021637126380937965\n",
      "current average: 10009.800666666666\n",
      "1583\n",
      "3000\n",
      "percentage change: 0.00020479928304943516\n",
      "current average: 10011.850666666667\n"
     ]
    },
    {
     "name": "stderr",
     "output_type": "stream",
     "text": [
      "[29124] \u001b[1;30mINFO\u001b[0m \u001b[34mabides_core.kernel\u001b[0m --- Simulation time: 2021-02-05 09:40:00, messages processed: 300,000, wallclock elapsed: 95.02s ---\n",
      "[29124] \u001b[1;30mINFO\u001b[0m \u001b[34mabides_core.kernel\u001b[0m --- Simulation time: 2021-02-05 09:40:32, messages processed: 400,000, wallclock elapsed: 114.49s ---\n"
     ]
    },
    {
     "name": "stdout",
     "output_type": "stream",
     "text": [
      "4842\n",
      "3000\n",
      "percentage change: 0.02063814242534982\n",
      "current average: 9805.224666666667\n",
      "CIRCUIT BREAKER\n"
     ]
    },
    {
     "name": "stderr",
     "output_type": "stream",
     "text": [
      "[29124] \u001b[1;30mINFO\u001b[0m \u001b[34mabides_core.kernel\u001b[0m --- Simulation time: 2021-02-05 09:41:30, messages processed: 500,000, wallclock elapsed: 135.13s ---\n"
     ]
    },
    {
     "name": "stdout",
     "output_type": "stream",
     "text": [
      "CIRCUIT BREAKER END\n",
      "0\n",
      "3000\n",
      "percentage change: 0.0\n",
      "current average: 9805.224666666667\n",
      "0\n",
      "3000\n",
      "percentage change: 0.0\n",
      "current average: 9805.224666666667\n"
     ]
    },
    {
     "name": "stderr",
     "output_type": "stream",
     "text": [
      "[29124] \u001b[1;30mINFO\u001b[0m \u001b[34mabides_core.kernel\u001b[0m --- Simulation time: 2021-02-05 09:42:08, messages processed: 600,000, wallclock elapsed: 147.85s ---\n",
      "[29124] \u001b[1;30mINFO\u001b[0m \u001b[34mabides_core.kernel\u001b[0m --- Simulation time: 2021-02-05 09:42:37, messages processed: 700,000, wallclock elapsed: 172.25s ---\n"
     ]
    },
    {
     "name": "stdout",
     "output_type": "stream",
     "text": [
      "6552\n",
      "3000\n",
      "percentage change: 0.018830607111025324\n",
      "current average: 9620.586333333333\n",
      "0\n",
      "3000\n",
      "percentage change: 0.0\n",
      "current average: 9620.586333333333\n"
     ]
    },
    {
     "name": "stderr",
     "output_type": "stream",
     "text": [
      "[29124] \u001b[1;30mINFO\u001b[0m \u001b[34mabides_core.kernel\u001b[0m --- Simulation time: 2021-02-05 09:43:04, messages processed: 800,000, wallclock elapsed: 196.46s ---\n",
      "[29124] \u001b[1;30mINFO\u001b[0m \u001b[34mabides_core.kernel\u001b[0m --- Simulation time: 2021-02-05 09:43:31, messages processed: 900,000, wallclock elapsed: 223.45s ---\n"
     ]
    },
    {
     "name": "stdout",
     "output_type": "stream",
     "text": [
      "6873\n",
      "3000\n",
      "percentage change: 0.03087452154250187\n",
      "current average: 9323.555333333334\n",
      "CIRCUIT BREAKER\n"
     ]
    },
    {
     "name": "stderr",
     "output_type": "stream",
     "text": [
      "[29124] \u001b[1;30mINFO\u001b[0m \u001b[34mabides_core.kernel\u001b[0m --- Simulation time: 2021-02-05 09:44:06, messages processed: 1,000,000, wallclock elapsed: 248.98s ---\n"
     ]
    },
    {
     "name": "stdout",
     "output_type": "stream",
     "text": [
      "CIRCUIT BREAKER END\n",
      "0\n",
      "3000\n",
      "percentage change: 0.0\n",
      "current average: 9323.555333333334\n",
      "0\n",
      "3000\n",
      "percentage change: 0.0\n",
      "current average: 9323.555333333334\n"
     ]
    },
    {
     "name": "stderr",
     "output_type": "stream",
     "text": [
      "[29124] \u001b[1;30mINFO\u001b[0m \u001b[34mabides_core.kernel\u001b[0m --- Simulation time: 2021-02-05 09:45:22, messages processed: 1,100,000, wallclock elapsed: 266.22s ---\n",
      "[29124] \u001b[1;30mINFO\u001b[0m \u001b[34mabides_core.kernel\u001b[0m --- Simulation time: 2021-02-05 09:45:52, messages processed: 1,200,000, wallclock elapsed: 289.31s ---\n"
     ]
    },
    {
     "name": "stdout",
     "output_type": "stream",
     "text": [
      "4893\n",
      "3000\n",
      "percentage change: 0.05777402654623952\n",
      "current average: 9862.214666666667\n",
      "CIRCUIT BREAKER\n",
      "CIRCUIT BREAKER END\n",
      "0\n",
      "3000\n",
      "percentage change: 0.0\n",
      "current average: 9862.214666666667\n",
      "0\n",
      "3000\n",
      "percentage change: 0.0\n",
      "current average: 9862.214666666667\n"
     ]
    },
    {
     "name": "stderr",
     "output_type": "stream",
     "text": [
      "[29124] \u001b[1;30mINFO\u001b[0m \u001b[34mabides_core.kernel\u001b[0m --- Simulation time: 2021-02-05 09:47:14, messages processed: 1,300,000, wallclock elapsed: 307.44s ---\n",
      "[29124] \u001b[1;30mINFO\u001b[0m \u001b[34mabides_core.kernel\u001b[0m --- Simulation time: 2021-02-05 09:47:46, messages processed: 1,400,000, wallclock elapsed: 331.60s ---\n"
     ]
    },
    {
     "name": "stdout",
     "output_type": "stream",
     "text": [
      "4809\n",
      "3000\n",
      "percentage change: 0.004768976163704073\n",
      "current average: 9815.182\n",
      "0\n",
      "3000\n",
      "percentage change: 0.0\n",
      "current average: 9815.182\n"
     ]
    },
    {
     "name": "stderr",
     "output_type": "stream",
     "text": [
      "[29124] \u001b[1;30mINFO\u001b[0m \u001b[34mabides_core.kernel\u001b[0m --- Simulation time: 2021-02-05 09:48:15, messages processed: 1,500,000, wallclock elapsed: 362.62s ---\n",
      "[29124] \u001b[1;30mINFO\u001b[0m \u001b[34mabides_core.kernel\u001b[0m --- Simulation time: 2021-02-05 09:48:42, messages processed: 1,600,000, wallclock elapsed: 390.30s ---\n"
     ]
    },
    {
     "name": "stdout",
     "output_type": "stream",
     "text": [
      "5981\n",
      "3000\n",
      "percentage change: 0.025311739846834595\n",
      "current average: 9566.742666666667\n",
      "CIRCUIT BREAKER\n",
      "CIRCUIT BREAKER END\n",
      "0\n",
      "3000\n",
      "percentage change: 0.0\n",
      "current average: 9566.742666666667\n",
      "0\n",
      "3000\n",
      "percentage change: 0.0\n",
      "current average: 9566.742666666667\n"
     ]
    },
    {
     "name": "stderr",
     "output_type": "stream",
     "text": [
      "[29124] \u001b[1;30mINFO\u001b[0m \u001b[34mabides_core.kernel\u001b[0m --- Simulation time: 2021-02-05 09:50:00, messages processed: 1,700,000, wallclock elapsed: 410.80s ---\n",
      "[29124] \u001b[1;30mINFO\u001b[0m \u001b[34mabides_core.kernel\u001b[0m --- Simulation time: 2021-02-05 09:50:28, messages processed: 1,800,000, wallclock elapsed: 434.99s ---\n"
     ]
    },
    {
     "name": "stdout",
     "output_type": "stream",
     "text": [
      "5142\n",
      "3000\n",
      "percentage change: 0.03032690193262567\n",
      "current average: 9856.872333333333\n",
      "CIRCUIT BREAKER\n"
     ]
    },
    {
     "name": "stderr",
     "output_type": "stream",
     "text": [
      "[29124] \u001b[1;30mINFO\u001b[0m \u001b[34mabides_core.kernel\u001b[0m --- Simulation time: 2021-02-05 09:51:07, messages processed: 1,900,000, wallclock elapsed: 461.26s ---\n"
     ]
    },
    {
     "name": "stdout",
     "output_type": "stream",
     "text": [
      "CIRCUIT BREAKER END\n",
      "0\n",
      "3000\n",
      "percentage change: 0.0\n",
      "current average: 9856.872333333333\n",
      "0\n",
      "3000\n",
      "percentage change: 0.0\n",
      "current average: 9856.872333333333\n"
     ]
    },
    {
     "name": "stderr",
     "output_type": "stream",
     "text": [
      "[29124] \u001b[1;30mINFO\u001b[0m \u001b[34mabides_core.kernel\u001b[0m --- Simulation time: 2021-02-05 09:52:19, messages processed: 2,000,000, wallclock elapsed: 481.04s ---\n",
      "[29124] \u001b[1;30mINFO\u001b[0m \u001b[34mabides_core.kernel\u001b[0m --- Simulation time: 2021-02-05 09:52:50, messages processed: 2,100,000, wallclock elapsed: 509.67s ---\n"
     ]
    },
    {
     "name": "stdout",
     "output_type": "stream",
     "text": [
      "4938\n",
      "3000\n",
      "percentage change: 0.0009285230673408112\n",
      "current average: 9866.024666666666\n",
      "0\n",
      "3000\n",
      "percentage change: 0.0\n",
      "current average: 9866.024666666666\n"
     ]
    },
    {
     "name": "stderr",
     "output_type": "stream",
     "text": [
      "[29124] \u001b[1;30mINFO\u001b[0m \u001b[34mabides_core.kernel\u001b[0m --- Simulation time: 2021-02-05 09:53:18, messages processed: 2,200,000, wallclock elapsed: 553.34s ---\n",
      "[29124] \u001b[1;30mINFO\u001b[0m \u001b[34mabides_core.kernel\u001b[0m --- Simulation time: 2021-02-05 09:53:46, messages processed: 2,300,000, wallclock elapsed: 583.77s ---\n"
     ]
    },
    {
     "name": "stdout",
     "output_type": "stream",
     "text": [
      "5573\n",
      "3000\n",
      "percentage change: 0.02577887331452707\n",
      "current average: 9611.689666666667\n",
      "CIRCUIT BREAKER\n",
      "CIRCUIT BREAKER END\n",
      "0\n",
      "3000\n",
      "percentage change: 0.0\n",
      "current average: 9611.689666666667\n",
      "0\n",
      "3000\n",
      "percentage change: 0.0\n",
      "current average: 9611.689666666667\n"
     ]
    },
    {
     "name": "stderr",
     "output_type": "stream",
     "text": [
      "[29124] \u001b[1;30mINFO\u001b[0m \u001b[34mabides_core.kernel\u001b[0m --- Simulation time: 2021-02-05 09:55:18, messages processed: 2,400,000, wallclock elapsed: 616.70s ---\n"
     ]
    },
    {
     "name": "stdout",
     "output_type": "stream",
     "text": [
      "2560\n",
      "3000\n",
      "percentage change: 0.03419627676285421\n",
      "current average: 9940.373666666666\n",
      "CIRCUIT BREAKER\n",
      "CIRCUIT BREAKER END\n",
      "0\n",
      "3000\n",
      "percentage change: 0.0\n",
      "current average: 9940.373666666666\n",
      "0\n",
      "3000\n",
      "percentage change: 0.0\n",
      "current average: 9940.373666666666\n"
     ]
    },
    {
     "name": "stderr",
     "output_type": "stream",
     "text": [
      "[29124] \u001b[1;30mINFO\u001b[0m \u001b[34mabides_core.kernel\u001b[0m --- Simulation time: 2021-02-05 09:57:11, messages processed: 2,500,000, wallclock elapsed: 643.73s ---\n"
     ]
    },
    {
     "name": "stdout",
     "output_type": "stream",
     "text": [
      "1527\n",
      "3000\n",
      "percentage change: 0.010716699751159615\n",
      "current average: 10046.901666666667\n",
      "0\n",
      "3000\n",
      "percentage change: 0.0\n",
      "current average: 10046.901666666667\n"
     ]
    },
    {
     "name": "stderr",
     "output_type": "stream",
     "text": [
      "[29124] \u001b[1;30mINFO\u001b[0m \u001b[34mabides_core.kernel\u001b[0m --- Simulation time: 2021-02-05 09:58:29, messages processed: 2,600,000, wallclock elapsed: 675.74s ---\n"
     ]
    },
    {
     "name": "stdout",
     "output_type": "stream",
     "text": [
      "1458\n",
      "3000\n",
      "percentage change: 0.000622745884676507\n",
      "current average: 10040.645\n",
      "0\n",
      "3000\n",
      "percentage change: 0.0\n",
      "current average: 10040.645\n"
     ]
    },
    {
     "name": "stderr",
     "output_type": "stream",
     "text": [
      "[29124] \u001b[1;30mINFO\u001b[0m \u001b[34mabides_core.kernel\u001b[0m --- Simulation time: 2021-02-05 09:59:44, messages processed: 2,700,000, wallclock elapsed: 709.31s ---\n"
     ]
    },
    {
     "name": "stdout",
     "output_type": "stream",
     "text": [
      "1683\n",
      "3000\n",
      "percentage change: 8.03401242317896e-06\n",
      "current average: 10040.725666666667\n",
      "0\n",
      "3000\n",
      "percentage change: 0.0\n",
      "current average: 10040.725666666667\n",
      "1485\n",
      "3000\n",
      "percentage change: 0.0006436785760869546\n",
      "current average: 10034.262666666667\n",
      "0\n",
      "3000\n",
      "percentage change: 0.0\n",
      "current average: 10034.262666666667\n"
     ]
    },
    {
     "name": "stderr",
     "output_type": "stream",
     "text": [
      "[29124] \u001b[1;30mINFO\u001b[0m \u001b[34mabides_core.kernel\u001b[0m --- Simulation time: 2021-02-05 10:01:01, messages processed: 2,800,000, wallclock elapsed: 740.87s ---\n"
     ]
    },
    {
     "name": "stdout",
     "output_type": "stream",
     "text": [
      "1700\n",
      "3000\n",
      "percentage change: 0.000569648233246736\n",
      "current average: 10028.546666666667\n",
      "0\n",
      "3000\n",
      "percentage change: 0.0\n",
      "current average: 10028.546666666667\n"
     ]
    },
    {
     "name": "stderr",
     "output_type": "stream",
     "text": [
      "[29124] \u001b[1;30mINFO\u001b[0m \u001b[34mabides_core.kernel\u001b[0m --- Simulation time: 2021-02-05 10:02:17, messages processed: 2,900,000, wallclock elapsed: 808.97s ---\n"
     ]
    },
    {
     "name": "stdout",
     "output_type": "stream",
     "text": [
      "1576\n",
      "3000\n",
      "percentage change: 0.0001462491740245996\n",
      "current average: 10030.013333333334\n",
      "0\n",
      "3000\n",
      "percentage change: 0.0\n",
      "current average: 10030.013333333334\n"
     ]
    },
    {
     "name": "stderr",
     "output_type": "stream",
     "text": [
      "[29124] \u001b[1;30mINFO\u001b[0m \u001b[34mabides_core.kernel\u001b[0m --- Simulation time: 2021-02-05 10:03:34, messages processed: 3,000,000, wallclock elapsed: 842.73s ---\n"
     ]
    },
    {
     "name": "stdout",
     "output_type": "stream",
     "text": [
      "1611\n",
      "3000\n",
      "percentage change: 6.879352769227053e-05\n",
      "current average: 10029.323333333334\n",
      "0\n",
      "3000\n",
      "percentage change: 0.0\n",
      "current average: 10029.323333333334\n"
     ]
    },
    {
     "name": "stderr",
     "output_type": "stream",
     "text": [
      "[29124] \u001b[1;30mINFO\u001b[0m \u001b[34mabides_core.kernel\u001b[0m --- Simulation time: 2021-02-05 10:04:51, messages processed: 3,100,000, wallclock elapsed: 874.53s ---\n"
     ]
    },
    {
     "name": "stdout",
     "output_type": "stream",
     "text": [
      "1499\n",
      "3000\n",
      "percentage change: 5.593597706987488e-05\n",
      "current average: 10029.884333333333\n",
      "0\n",
      "3000\n",
      "percentage change: 0.0\n",
      "current average: 10029.884333333333\n",
      "1454\n",
      "3000\n",
      "percentage change: 0.00015487051312954172\n",
      "current average: 10028.331\n",
      "0\n",
      "3000\n",
      "percentage change: 0.0\n",
      "current average: 10028.331\n"
     ]
    },
    {
     "name": "stderr",
     "output_type": "stream",
     "text": [
      "[29124] \u001b[1;30mINFO\u001b[0m \u001b[34mabides_core.kernel\u001b[0m --- Simulation time: 2021-02-05 10:06:10, messages processed: 3,200,000, wallclock elapsed: 908.92s ---\n"
     ]
    },
    {
     "name": "stdout",
     "output_type": "stream",
     "text": [
      "1611\n",
      "3000\n",
      "percentage change: 0.0005015789766014559\n",
      "current average: 10033.361\n",
      "0\n",
      "3000\n",
      "percentage change: 0.0\n",
      "current average: 10033.361\n"
     ]
    },
    {
     "name": "stderr",
     "output_type": "stream",
     "text": [
      "[29124] \u001b[1;30mINFO\u001b[0m \u001b[34mabides_core.kernel\u001b[0m --- Simulation time: 2021-02-05 10:07:26, messages processed: 3,300,000, wallclock elapsed: 943.69s ---\n"
     ]
    },
    {
     "name": "stdout",
     "output_type": "stream",
     "text": [
      "1547\n",
      "3000\n",
      "percentage change: 0.00035029803738408457\n",
      "current average: 10036.875666666667\n",
      "0\n",
      "3000\n",
      "percentage change: 0.0\n",
      "current average: 10036.875666666667\n"
     ]
    },
    {
     "name": "stderr",
     "output_type": "stream",
     "text": [
      "[29124] \u001b[1;30mINFO\u001b[0m \u001b[34mabides_core.kernel\u001b[0m --- Simulation time: 2021-02-05 10:08:44, messages processed: 3,400,000, wallclock elapsed: 977.69s ---\n"
     ]
    },
    {
     "name": "stdout",
     "output_type": "stream",
     "text": [
      "1512\n",
      "3000\n",
      "percentage change: 9.309005754008591e-05\n",
      "current average: 10035.941333333334\n",
      "0\n",
      "3000\n",
      "percentage change: 0.0\n",
      "current average: 10035.941333333334\n",
      "1466\n",
      "3000\n",
      "percentage change: 0.0005108638870747092\n",
      "current average: 10030.814333333334\n",
      "0\n",
      "3000\n",
      "percentage change: 0.0\n",
      "current average: 10030.814333333334\n"
     ]
    },
    {
     "name": "stderr",
     "output_type": "stream",
     "text": [
      "[29124] \u001b[1;30mINFO\u001b[0m \u001b[34mabides_core.kernel\u001b[0m --- Simulation time: 2021-02-05 10:10:02, messages processed: 3,500,000, wallclock elapsed: 1011.87s ---\n"
     ]
    },
    {
     "name": "stdout",
     "output_type": "stream",
     "text": [
      "1529\n",
      "3000\n",
      "percentage change: 0.00032253944952232523\n",
      "current average: 10027.579\n",
      "0\n",
      "3000\n",
      "percentage change: 0.0\n",
      "current average: 10027.579\n"
     ]
    },
    {
     "name": "stderr",
     "output_type": "stream",
     "text": [
      "[29124] \u001b[1;30mINFO\u001b[0m \u001b[34mabides_core.kernel\u001b[0m --- Simulation time: 2021-02-05 10:11:20, messages processed: 3,600,000, wallclock elapsed: 1113.62s ---\n"
     ]
    },
    {
     "name": "stdout",
     "output_type": "stream",
     "text": [
      "1531\n",
      "3000\n",
      "percentage change: 0.0007868300015386983\n",
      "current average: 10035.469\n",
      "0\n",
      "3000\n",
      "percentage change: 0.0\n",
      "current average: 10035.469\n"
     ]
    },
    {
     "name": "stderr",
     "output_type": "stream",
     "text": [
      "[29124] \u001b[1;30mINFO\u001b[0m \u001b[34mabides_core.kernel\u001b[0m --- Simulation time: 2021-02-05 10:12:39, messages processed: 3,700,000, wallclock elapsed: 1146.65s ---\n"
     ]
    },
    {
     "name": "stdout",
     "output_type": "stream",
     "text": [
      "1619\n",
      "3000\n",
      "percentage change: 0.00038692760647276477\n",
      "current average: 10039.352\n",
      "0\n",
      "3000\n",
      "percentage change: 0.0\n",
      "current average: 10039.352\n"
     ]
    },
    {
     "name": "stderr",
     "output_type": "stream",
     "text": [
      "[29124] \u001b[1;30mINFO\u001b[0m \u001b[34mabides_core.kernel\u001b[0m --- Simulation time: 2021-02-05 10:13:54, messages processed: 3,800,000, wallclock elapsed: 1180.11s ---\n"
     ]
    },
    {
     "name": "stdout",
     "output_type": "stream",
     "text": [
      "1542\n",
      "3000\n",
      "percentage change: 0.00056082636940438\n",
      "current average: 10044.982333333333\n",
      "0\n",
      "3000\n",
      "percentage change: 0.0\n",
      "current average: 10044.982333333333\n",
      "1502\n",
      "3000\n",
      "percentage change: 0.0005482007318612048\n",
      "current average: 10050.489\n",
      "0\n",
      "3000\n",
      "percentage change: 0.0\n",
      "current average: 10050.489\n"
     ]
    },
    {
     "name": "stderr",
     "output_type": "stream",
     "text": [
      "[29124] \u001b[1;30mINFO\u001b[0m \u001b[34mabides_core.kernel\u001b[0m --- Simulation time: 2021-02-05 10:15:13, messages processed: 3,900,000, wallclock elapsed: 1213.04s ---\n"
     ]
    },
    {
     "name": "stdout",
     "output_type": "stream",
     "text": [
      "1553\n",
      "3000\n",
      "percentage change: 0.000272192394486217\n",
      "current average: 10053.224666666667\n",
      "0\n",
      "3000\n",
      "percentage change: 0.0\n",
      "current average: 10053.224666666667\n"
     ]
    },
    {
     "name": "stderr",
     "output_type": "stream",
     "text": [
      "[29124] \u001b[1;30mINFO\u001b[0m \u001b[34mabides_core.kernel\u001b[0m --- Simulation time: 2021-02-05 10:16:28, messages processed: 4,000,000, wallclock elapsed: 1246.04s ---\n"
     ]
    },
    {
     "name": "stdout",
     "output_type": "stream",
     "text": [
      "1683\n",
      "3000\n",
      "percentage change: 0.00015656667906959376\n",
      "current average: 10051.650666666666\n",
      "0\n",
      "3000\n",
      "percentage change: 0.0\n",
      "current average: 10051.650666666666\n"
     ]
    },
    {
     "name": "stderr",
     "output_type": "stream",
     "text": [
      "[29124] \u001b[1;30mINFO\u001b[0m \u001b[34mabides_core.kernel\u001b[0m --- Simulation time: 2021-02-05 10:17:43, messages processed: 4,100,000, wallclock elapsed: 1282.08s ---\n"
     ]
    },
    {
     "name": "stdout",
     "output_type": "stream",
     "text": [
      "1532\n",
      "3000\n",
      "percentage change: 0.0003866694929576301\n",
      "current average: 10047.764\n",
      "0\n",
      "3000\n",
      "percentage change: 0.0\n",
      "current average: 10047.764\n",
      "1593\n",
      "3000\n",
      "percentage change: 9.176170937122541e-05\n",
      "current average: 10046.842\n",
      "0\n",
      "3000\n",
      "percentage change: 0.0\n",
      "current average: 10046.842\n"
     ]
    },
    {
     "name": "stderr",
     "output_type": "stream",
     "text": [
      "[29124] \u001b[1;30mINFO\u001b[0m \u001b[34mabides_core.kernel\u001b[0m --- Simulation time: 2021-02-05 10:19:01, messages processed: 4,200,000, wallclock elapsed: 1315.89s ---\n"
     ]
    },
    {
     "name": "stdout",
     "output_type": "stream",
     "text": [
      "1626\n",
      "3000\n",
      "percentage change: 0.00018310894773370022\n",
      "current average: 10045.002333333334\n",
      "0\n",
      "3000\n",
      "percentage change: 0.0\n",
      "current average: 10045.002333333334\n"
     ]
    },
    {
     "name": "stderr",
     "output_type": "stream",
     "text": [
      "[29124] \u001b[1;30mINFO\u001b[0m \u001b[34mabides_core.kernel\u001b[0m --- Simulation time: 2021-02-05 10:20:20, messages processed: 4,300,000, wallclock elapsed: 1347.81s ---\n"
     ]
    },
    {
     "name": "stdout",
     "output_type": "stream",
     "text": [
      "1617\n",
      "3000\n",
      "percentage change: 0.00025501902156516805\n",
      "current average: 10047.564\n",
      "0\n",
      "3000\n",
      "percentage change: 0.0\n",
      "current average: 10047.564\n"
     ]
    },
    {
     "name": "stderr",
     "output_type": "stream",
     "text": [
      "[29124] \u001b[1;30mINFO\u001b[0m \u001b[34mabides_core.kernel\u001b[0m --- Simulation time: 2021-02-05 10:21:35, messages processed: 4,400,000, wallclock elapsed: 1493.35s ---\n"
     ]
    },
    {
     "name": "stdout",
     "output_type": "stream",
     "text": [
      "1506\n",
      "3000\n",
      "percentage change: 0.0001053323306359933\n",
      "current average: 10046.505666666666\n",
      "0\n",
      "3000\n",
      "percentage change: 0.0\n",
      "current average: 10046.505666666666\n"
     ]
    },
    {
     "name": "stderr",
     "output_type": "stream",
     "text": [
      "[29124] \u001b[1;30mINFO\u001b[0m \u001b[34mabides_core.kernel\u001b[0m --- Simulation time: 2021-02-05 10:22:51, messages processed: 4,500,000, wallclock elapsed: 1530.39s ---\n"
     ]
    },
    {
     "name": "stdout",
     "output_type": "stream",
     "text": [
      "1468\n",
      "3000\n",
      "percentage change: 0.00038580578447891555\n",
      "current average: 10042.629666666666\n",
      "0\n",
      "3000\n",
      "percentage change: 0.0\n",
      "current average: 10042.629666666666\n",
      "1640\n",
      "3000\n",
      "percentage change: 0.0007181385990899862\n",
      "current average: 10035.417666666666\n",
      "0\n",
      "3000\n",
      "percentage change: 0.0\n",
      "current average: 10035.417666666666\n"
     ]
    },
    {
     "name": "stderr",
     "output_type": "stream",
     "text": [
      "[29124] \u001b[1;30mINFO\u001b[0m \u001b[34mabides_core.kernel\u001b[0m --- Simulation time: 2021-02-05 10:24:09, messages processed: 4,600,000, wallclock elapsed: 1570.42s ---\n"
     ]
    },
    {
     "name": "stdout",
     "output_type": "stream",
     "text": [
      "1460\n",
      "3000\n",
      "percentage change: 0.0005763918877583058\n",
      "current average: 10029.633333333333\n",
      "0\n",
      "3000\n",
      "percentage change: 0.0\n",
      "current average: 10029.633333333333\n"
     ]
    },
    {
     "name": "stderr",
     "output_type": "stream",
     "text": [
      "[29124] \u001b[1;30mINFO\u001b[0m \u001b[34mabides_core.kernel\u001b[0m --- Simulation time: 2021-02-05 10:25:27, messages processed: 4,700,000, wallclock elapsed: 1606.47s ---\n"
     ]
    },
    {
     "name": "stdout",
     "output_type": "stream",
     "text": [
      "1532\n",
      "3000\n",
      "percentage change: 0.0009786665514525934\n",
      "current average: 10019.817666666666\n",
      "0\n",
      "3000\n",
      "percentage change: 0.0\n",
      "current average: 10019.817666666666\n"
     ]
    },
    {
     "name": "stderr",
     "output_type": "stream",
     "text": [
      "[29124] \u001b[1;30mINFO\u001b[0m \u001b[34mabides_core.kernel\u001b[0m --- Simulation time: 2021-02-05 10:26:44, messages processed: 4,800,000, wallclock elapsed: 1639.50s ---\n"
     ]
    },
    {
     "name": "stdout",
     "output_type": "stream",
     "text": [
      "1599\n",
      "3000\n",
      "percentage change: 0.00016706890840637265\n",
      "current average: 10021.491666666667\n",
      "0\n",
      "3000\n",
      "percentage change: 0.0\n",
      "current average: 10021.491666666667\n",
      "1649\n",
      "3000\n",
      "percentage change: 0.00014113002139575734\n",
      "current average: 10022.906\n",
      "0\n",
      "3000\n",
      "percentage change: 0.0\n",
      "current average: 10022.906\n"
     ]
    },
    {
     "name": "stderr",
     "output_type": "stream",
     "text": [
      "[29124] \u001b[1;30mINFO\u001b[0m \u001b[34mabides_core.kernel\u001b[0m --- Simulation time: 2021-02-05 10:28:00, messages processed: 4,900,000, wallclock elapsed: 1674.70s ---\n"
     ]
    },
    {
     "name": "stdout",
     "output_type": "stream",
     "text": [
      "1602\n",
      "3000\n",
      "percentage change: 0.00012498038659319063\n",
      "current average: 10021.653333333334\n",
      "0\n",
      "3000\n",
      "percentage change: 0.0\n",
      "current average: 10021.653333333334\n"
     ]
    },
    {
     "name": "stderr",
     "output_type": "stream",
     "text": [
      "[29124] \u001b[1;30mINFO\u001b[0m \u001b[34mabides_core.kernel\u001b[0m --- Simulation time: 2021-02-05 10:29:18, messages processed: 5,000,000, wallclock elapsed: 1710.34s ---\n"
     ]
    },
    {
     "name": "stdout",
     "output_type": "stream",
     "text": [
      "1339\n",
      "3000\n",
      "percentage change: 0.0004965913807968515\n",
      "current average: 10016.676666666666\n",
      "0\n",
      "3000\n",
      "percentage change: 0.0\n",
      "current average: 10016.676666666666\n",
      "74\n",
      "3000\n",
      "percentage change: 2.1031592980033236e-05\n",
      "current average: 10016.466\n",
      "agent_types:  ['CircuitBreakerExchangeAgent', 'InstitutionalTraderAgent', 'NoiseAgent', 'NoiseAgent', 'NoiseAgent', 'NoiseAgent', 'NoiseAgent', 'ValueAgent', 'ValueAgent', 'ValueAgent', 'ValueAgent', 'ValueAgent', 'ValueAgent', 'ValueAgent', 'ValueAgent', 'ValueAgent', 'ValueAgent', 'POVMarketMakerAgent', 'POVMarketMakerAgent', 'POVMarketMakerAgent', 'POVMarketMakerAgent', 'POVMarketMakerAgent', 'POVMarketMakerAgent', 'POVMarketMakerAgent', 'POVMarketMakerAgent', 'POVMarketMakerAgent', 'POVMarketMakerAgent', 'POVMarketMakerAgent', 'POVMarketMakerAgent', 'POVMarketMakerAgent', 'POVMarketMakerAgent', 'POVMarketMakerAgent', 'MomentumAgent', 'MomentumAgent', 'MomentumAgent', 'MomentumAgent', 'MomentumAgent', 'MomentumAgent', 'MomentumAgent', 'MomentumAgent', 'MomentumAgent', 'MomentumAgent']\n"
     ]
    },
    {
     "name": "stderr",
     "output_type": "stream",
     "text": [
      "[29124] \u001b[1;30mINFO\u001b[0m \u001b[34mabides_core.kernel\u001b[0m Event Queue elapsed: 0:28:49.794515, messages: 5,053,521, messages per second: 2921.5\n",
      "[29124] \u001b[1;30mINFO\u001b[0m \u001b[34mabides_core.kernel\u001b[0m Mean ending value by agent type:\n",
      "[29124] \u001b[1;30mINFO\u001b[0m \u001b[34mabides_core.kernel\u001b[0m InstitutionalTraderAgent: 952629258631\n",
      "[29124] \u001b[1;30mINFO\u001b[0m \u001b[34mabides_core.kernel\u001b[0m NoiseAgent: 97337\n",
      "[29124] \u001b[1;30mINFO\u001b[0m \u001b[34mabides_core.kernel\u001b[0m ValueAgent: 791291903\n",
      "[29124] \u001b[1;30mINFO\u001b[0m \u001b[34mabides_core.kernel\u001b[0m AdaptivePOVMarketMakerAgent: 2903376271\n",
      "[29124] \u001b[1;30mINFO\u001b[0m \u001b[34mabides_core.kernel\u001b[0m MomentumAgent: 669158\n",
      "[29124] \u001b[1;30mINFO\u001b[0m \u001b[34mabides_core.kernel\u001b[0m Simulation ending!\n",
      "[29124] \u001b[1;30mINFO\u001b[0m \u001b[34mabides\u001b[0m Simulation End Time: 2024-05-14 22:19:50.329048\n",
      "[29124] \u001b[1;30mINFO\u001b[0m \u001b[34mabides\u001b[0m Time taken to run simulation: 0:36:25.563638\n"
     ]
    },
    {
     "name": "stdout",
     "output_type": "stream",
     "text": [
      "Writing summary log\n"
     ]
    }
   ],
   "source": [
    "end_state = abides.run(config, log_dir=\"simulation\")"
   ]
  },
  {
   "cell_type": "markdown",
   "metadata": {},
   "source": [
    "## Retrieving results from end_state"
   ]
  },
  {
   "cell_type": "markdown",
   "metadata": {},
   "source": [
    "By convention in abides_markets configuration the first agent is the exchange agent. \n",
    "It contains an order_book. By default it logs its history."
   ]
  },
  {
   "cell_type": "code",
   "execution_count": 20,
   "metadata": {},
   "outputs": [],
   "source": [
    "order_book = end_state[\"agents\"][0].order_books[\"ABM\"]"
   ]
  },
  {
   "cell_type": "code",
   "execution_count": 21,
   "metadata": {},
   "outputs": [],
   "source": [
    "ms_list = end_state[\"agents\"][-5].momentum_signal_list"
   ]
  },
  {
   "cell_type": "code",
   "execution_count": 22,
   "metadata": {},
   "outputs": [
    {
     "data": {
      "text/plain": [
       "array([0.        , 0.00899886, 0.13053673, ..., 0.09439623, 0.13887241,\n",
       "       0.09448084])"
      ]
     },
     "execution_count": 22,
     "metadata": {},
     "output_type": "execute_result"
    }
   ],
   "source": [
    "np.tanh(100*np.array(ms_list))"
   ]
  },
  {
   "cell_type": "code",
   "execution_count": null,
   "metadata": {},
   "outputs": [],
   "source": []
  },
  {
   "cell_type": "code",
   "execution_count": 23,
   "metadata": {},
   "outputs": [],
   "source": [
    "for symbol in end_state[\"agents\"][0].oracle.f_log:\n",
    "    dfFund = pd.DataFrame(end_state[\"agents\"][0].oracle.f_log[symbol])"
   ]
  },
  {
   "cell_type": "code",
   "execution_count": null,
   "metadata": {},
   "outputs": [],
   "source": []
  },
  {
   "cell_type": "code",
   "execution_count": 26,
   "metadata": {},
   "outputs": [
    {
     "data": {
      "image/png": "[encoded data removed]",
      "text/plain": [
       "<Figure size 800x600 with 1 Axes>"
      ]
     },
     "metadata": {},
     "output_type": "display_data"
    }
   ],
   "source": [
    "dfFund['time'] = dfFund['FundamentalTime'].apply( lambda x: x - ns_date(x))\n",
    "\n",
    "start, end = str_to_ns(\"09:30:00\"), str_to_ns(\"10:30:00\")\n",
    "\n",
    "dfFund = dfFund[(dfFund['time'] > start) & (dfFund['time'] < end)].copy()\n",
    "\n",
    "y_max, y_min = dfFund.FundamentalValue.max(), dfFund.FundamentalValue.min()\n",
    "\n",
    "fig, ax = plt.subplots(figsize=(8, 6))\n",
    "ax.plot(dfFund.time, dfFund.FundamentalValue, alpha=0.9, label='FV')\n",
    "ax.set_ylabel(\"price(ticks)\")\n",
    "ax.set_xlabel(\"time\")\n",
    "ax.set_ylim(y_min, y_max)\n",
    "ax.set_xlim(start, end)\n",
    "ax.set_title('Fundamental Value')\n",
    "\n",
    "time_mesh = np.arange(start, end, 1e9*60)\n",
    "ax.set_xticks(time_mesh, [fmt_ts(time).split(\" \")[1] for time in time_mesh], rotation=60)\n",
    "plt.legend(loc='best')\n",
    "plt.show()"
   ]
  },
  {
   "cell_type": "markdown",
   "metadata": {},
   "source": [
    "### Order book history L1"
   ]
  },
  {
   "cell_type": "markdown",
   "metadata": {},
   "source": [
    "L1 data snapshots for every tick can be extracted\n",
    "( best bid and ask price and quantity )"
   ]
  },
  {
   "cell_type": "code",
   "execution_count": 25,
   "metadata": {},
   "outputs": [],
   "source": [
    "L1 = order_book.get_L1_snapshots()"
   ]
  },
  {
   "cell_type": "markdown",
   "metadata": {},
   "source": [
    "Here we plot the time series of the best bid and best ask price thoughout the simulation"
   ]
  },
  {
   "cell_type": "code",
   "execution_count": 27,
   "metadata": {},
   "outputs": [
    {
     "data": {
      "image/png": "[encoded data removed]",
      "text/plain": [
       "<Figure size 800x600 with 1 Axes>"
      ]
     },
     "metadata": {},
     "output_type": "display_data"
    },
    {
     "data": {
      "image/png": "[encoded data removed]",
      "text/plain": [
       "<Figure size 800x600 with 1 Axes>"
      ]
     },
     "metadata": {},
     "output_type": "display_data"
    }
   ],
   "source": [
    "best_bids = pd.DataFrame(L1[\"best_bids\"],columns=[\"time\",\"price\",\"qty\"])\n",
    "best_asks = pd.DataFrame(L1[\"best_asks\"],columns=[\"time\",\"price\",\"qty\"])\n",
    "\n",
    "## All times are in ns from 1970, remove the date component to put them in ns from midnight\n",
    "best_bids[\"time\"] = best_bids[\"time\"].apply( lambda x: x - ns_date(x) )\n",
    "best_asks[\"time\"] = best_asks[\"time\"].apply( lambda x: x - ns_date(x) )\n",
    "\n",
    "start, end = str_to_ns(\"09:30:00\"), str_to_ns(\"10:30:00\")\n",
    "\n",
    "best_bids = best_bids[(best_bids['time'] > start) & (best_bids['time'] < end)]\n",
    "best_asks = best_asks[(best_asks['time'] > start) & (best_asks['time'] < end)]\n",
    "\n",
    "y_max, y_min = best_asks.price.max(), best_bids.price.min()\n",
    "\n",
    "fig, ax = plt.subplots(figsize=(8, 6))\n",
    "ax.plot(best_bids.time,best_bids.price, alpha=0.9, label='bid')\n",
    "ax.plot(best_asks.time,best_asks.price, alpha=0.9, label='ask')\n",
    "ax.plot(dfFund.time, dfFund.FundamentalValue, alpha=0.9, label='FV')\n",
    "ax.set_ylabel(\"price(ticks)\")\n",
    "ax.set_xlabel(\"time\")\n",
    "ax.set_ylim(y_min, y_max)\n",
    "ax.set_xlim(start, end)\n",
    "\n",
    "time_mesh = np.arange(start, end, 1e9*60)\n",
    "ax.set_xticks(time_mesh, [fmt_ts(time).split(\" \")[1] for time in time_mesh], rotation=60)\n",
    "plt.legend(loc='best')\n",
    "plt.show()\n",
    "\n",
    "spread = best_asks.price - best_bids.price\n",
    "\n",
    "fig, ax = plt.subplots(figsize=(8, 6))\n",
    "ax.plot(best_bids.time, spread, alpha=0.9, label='spread')\n",
    "ax.set_ylabel(\"ticks\")\n",
    "ax.set_xlabel(\"time\")\n",
    "ax.set_ylim(0, 15)\n",
    "ax.set_xlim(start, end)\n",
    "\n",
    "ax.set_xticks(time_mesh, [fmt_ts(time).split(\" \")[1] for time in time_mesh], rotation=60)\n",
    "plt.legend(loc='best')\n",
    "plt.show()"
   ]
  },
  {
   "cell_type": "code",
   "execution_count": null,
   "metadata": {},
   "outputs": [],
   "source": []
  },
  {
   "cell_type": "markdown",
   "metadata": {},
   "source": [
    "### Order book history L2"
   ]
  },
  {
   "cell_type": "markdown",
   "metadata": {},
   "source": [
    "L2 data snapshots for every tick can be extracted\n",
    "( bids and asks price and quantity for every orderbook level. Here max depth logged is a parameter of the simulation and max number of levels we want to retrieve from the orderbook after the simulation is a parameter too)"
   ]
  },
  {
   "cell_type": "code",
   "execution_count": 28,
   "metadata": {},
   "outputs": [],
   "source": [
    "L2 = order_book.get_L2_snapshots(nlevels=10)"
   ]
  },
  {
   "cell_type": "code",
   "execution_count": 29,
   "metadata": {},
   "outputs": [
    {
     "data": {
      "text/plain": [
       "array([[10004.,    55.],\n",
       "       [10003.,   200.],\n",
       "       [10001.,   100.],\n",
       "       [10000.,    20.],\n",
       "       [ 9998.,   140.],\n",
       "       [ 9997.,    60.],\n",
       "       [ 9996.,    40.],\n",
       "       [ 9995.,    40.],\n",
       "       [ 9994.,    83.],\n",
       "       [ 9993.,   152.]])"
      ]
     },
     "execution_count": 29,
     "metadata": {},
     "output_type": "execute_result"
    }
   ],
   "source": [
    "L2[\"bids\"][10000]"
   ]
  },
  {
   "cell_type": "markdown",
   "metadata": {},
   "source": [
    "As an illustration we plot the time series of the fifth best bid price and fifth best ask price throughout the simulation"
   ]
  },
  {
   "cell_type": "code",
   "execution_count": 30,
   "metadata": {},
   "outputs": [
    {
     "data": {
      "image/png": "[encoded data removed]",
      "text/plain": [
       "<Figure size 1200x600 with 3 Axes>"
      ]
     },
     "metadata": {},
     "output_type": "display_data"
    }
   ],
   "source": [
    "## plotting LOB\n",
    "# start, end = 20000, 30000\n",
    "times = [t - ns_date(t) for t in L2[\"times\"] ]\n",
    "start, end = str_to_ns(\"09:40:00\"), str_to_ns(\"09:45:00\")\n",
    "left = next(x for x, val in enumerate(times) if val > start)\n",
    "right = next(x for x, val in enumerate(times) if val > end)\n",
    "times = times[left:right]\n",
    "\n",
    "fig, ax = plt.subplots(figsize=(12, 6))\n",
    "y_min, y_max = min(L2[\"bids\"][left:right, 4, 0]), max(L2[\"asks\"][left:right, 4, 0])\n",
    "for i in range(8):\n",
    "    im_bid = ax.scatter(times, L2[\"bids\"][left:right, i, 0], alpha=1, s=0.3, c=L2[\"bids\"][left:right, i, 1], cmap=\"viridis\")\n",
    "    im_ask = ax.scatter(times, L2[\"asks\"][left:right, i, 0], alpha=1, s=0.3, c=L2[\"asks\"][left:right, i, 1], cmap=\"Reds\")\n",
    "\n",
    "ax.set_ylim(y_min, y_max)\n",
    "ax.set_xlim(start, end)\n",
    "\n",
    "time_mesh = np.arange(start, end, 1e9*60*2)\n",
    "ax.set_xticks(time_mesh, [fmt_ts(time).split(\" \")[1] for time in time_mesh], rotation=60 )\n",
    "ax.set_ylabel(\"price(ticks)\")\n",
    "ax.set_xlabel(\"time\")\n",
    "fig.colorbar(im_bid, ax=ax, label='bid')\n",
    "fig.colorbar(im_ask, ax=ax, label='ask')\n",
    "\n",
    "# plt.legend(loc='best')\n",
    "plt.show()"
   ]
  },
  {
   "cell_type": "code",
   "execution_count": null,
   "metadata": {},
   "outputs": [],
   "source": []
  },
  {
   "cell_type": "markdown",
   "metadata": {},
   "source": [
    "### Looking at agents logs"
   ]
  },
  {
   "cell_type": "markdown",
   "metadata": {},
   "source": [
    "All agents can be inspected to retrieve desired information. \n",
    "The utility parse_logs_df for instance provides a quick way to retrieve and aggregate the log variables of each agent in a single dataframe"
   ]
  },
  {
   "cell_type": "code",
   "execution_count": 23,
   "metadata": {},
   "outputs": [],
   "source": [
    "logs_df = parse_logs_df( end_state )"
   ]
  },
  {
   "cell_type": "markdown",
   "metadata": {},
   "source": [
    "#### Histogram of order submission times for noise agents"
   ]
  },
  {
   "cell_type": "markdown",
   "metadata": {},
   "source": [
    "As an illustration we retrieve the submission times of all the orders sent by noise agent and display the histogram of all these times"
   ]
  },
  {
   "cell_type": "code",
   "execution_count": 24,
   "metadata": {},
   "outputs": [
    {
     "data": {
      "image/png": "[encoded data removed]",
      "text/plain": [
       "<Figure size 640x480 with 1 Axes>"
      ]
     },
     "metadata": {},
     "output_type": "display_data"
    }
   ],
   "source": [
    "plt.hist( logs_df[ (logs_df.agent_type == \"AdaptivePOVMarketMakerAgent\") & (logs_df.EventType==\"ORDER_SUBMITTED\") ].EventTime.apply(lambda x: x - ns_date(x) )  )\n",
    "\n",
    "_=plt.xticks(time_mesh, [ fmt_ts(time).split(\" \")[1] for time in time_mesh], rotation=60 )\n",
    "\n",
    "\n"
   ]
  },
  {
   "cell_type": "markdown",
   "metadata": {},
   "source": [
    "We proceed the same way for value agents as well"
   ]
  },
  {
   "cell_type": "code",
   "execution_count": 25,
   "metadata": {},
   "outputs": [
    {
     "data": {
      "image/png": "[encoded data removed]",
      "text/plain": [
       "<Figure size 640x480 with 1 Axes>"
      ]
     },
     "metadata": {},
     "output_type": "display_data"
    }
   ],
   "source": [
    "plt.hist( logs_df[ (logs_df.agent_type == \"ValueAgent\") & (logs_df.EventType==\"ORDER_SUBMITTED\") ].EventTime.apply(lambda x: x - ns_date(x) )  )\n",
    "\n",
    "_=plt.xticks(time_mesh, [ fmt_ts(time).split(\" \")[1] for time in time_mesh], rotation=60 )"
   ]
  },
  {
   "cell_type": "code",
   "execution_count": null,
   "metadata": {},
   "outputs": [],
   "source": []
  },
  {
   "cell_type": "code",
   "execution_count": null,
   "metadata": {},
   "outputs": [],
   "source": []
  },
  {
   "cell_type": "code",
   "execution_count": null,
   "metadata": {
    "scrolled": true
   },
   "outputs": [],
   "source": []
  },
  {
   "cell_type": "code",
   "execution_count": null,
   "metadata": {},
   "outputs": [],
   "source": []
  },
  {
   "cell_type": "code",
   "execution_count": null,
   "metadata": {
    "scrolled": true
   },
   "outputs": [],
   "source": []
  },
  {
   "cell_type": "code",
   "execution_count": null,
   "metadata": {},
   "outputs": [],
   "source": []
  },
  {
   "cell_type": "code",
   "execution_count": null,
   "metadata": {},
   "outputs": [],
   "source": []
  },
  {
   "cell_type": "code",
   "execution_count": null,
   "metadata": {},
   "outputs": [],
   "source": []
  },
  {
   "cell_type": "code",
   "execution_count": null,
   "metadata": {},
   "outputs": [],
   "source": []
  },
  {
   "cell_type": "code",
   "execution_count": null,
   "metadata": {},
   "outputs": [],
   "source": []
  },
  {
   "cell_type": "code",
   "execution_count": null,
   "metadata": {},
   "outputs": [],
   "source": []
  }
 ],
 "metadata": {
  "kernelspec": {
   "display_name": "Python 3",
   "language": "python",
   "name": "python3"
  },
  "language_info": {
   "codemirror_mode": {
    "name": "ipython",
    "version": 3
   },
   "file_extension": ".py",
   "mimetype": "text/x-python",
   "name": "python",
   "nbconvert_exporter": "python",
   "pygments_lexer": "ipython3",
   "version": "3.8.10"
  }
 },
 "nbformat": 4,
 "nbformat_minor": 4
}
